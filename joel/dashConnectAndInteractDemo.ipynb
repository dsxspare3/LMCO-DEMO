{
    "nbformat_minor": 1, 
    "metadata": {
        "language_info": {
            "nbconvert_exporter": "python", 
            "codemirror_mode": {
                "name": "ipython", 
                "version": 2
            }, 
            "pygments_lexer": "ipython2", 
            "name": "python", 
            "file_extension": ".py", 
            "version": "2.7.11", 
            "mimetype": "text/x-python"
        }, 
        "kernelspec": {
            "language": "python", 
            "name": "python2", 
            "display_name": "Python 2 with Spark 1.6"
        }
    }, 
    "nbformat": 4, 
    "cells": [
        {
            "source": "\n# Access dashDB and explore the data with Python\n\nThis notebook shows how to access a dashDB data warehouse or DB2 database when using Python. The examples use a dashDB warehouse, but the instructions apply to both dashDB and DB2.\n\n<!--\n![dashDB Logo](https://ibm.box.com/shared/static/42yt39czuksqdi278xpy96txtlw3lfmb.png)\n![Python Logo](https://www.python.org/static/community_logos/python-logo-master-v3-TM-flattened.png)\n-->\n\n## Table of contents\n\n1. [Setup](#Setup) \n1. [Import the *ibmdbpy* Python library](#Import-the-ibmdbpy-Python-library)\n1. [Insert the database connection credentials](#Insert-the-database-connection-credentials)\n1. [Create the database connection](#Create-the-database-connection)\n1. [Use dataframe to read and manipulate tables](#Use-dataframe-to-read-and-manipulate-tables)\n1. [Use SQL](#Use-SQL)\n1. [Explore the trafficking data](#Explore-the-trafficking-data)\n1. [Close the database connection](#Close-the-database-connection)\n1. [Summary](#Summary)\n\n\n## Setup\n\nBefore beginning you will need a *dashDB* instance. dashDB is a fully managed cloud data warehouse, purpose-built for analytics. It offers massively parallel processing (MPP) scale and compatibility with a wide range of business intelligence (BI) tools.  \n\n[Try dashDB free of charge on IBM Bluemix.](https://console.ng.bluemix.net/catalog/services/dashdb)\n\n<a class=\"ibm-tooltip\" href=\"https://console.ng.bluemix.net/catalog/services/dashdb\" target=\"_blank\" title=\"\" id=\"ibm-tooltip-0\">\n<img alt=\"IBM Bluemix.Get started now\" height=\"193\" width=\"153\" src=\"https://ibm.box.com/shared/static/42yt39czuksqdi278xpy96txtlw3lfmb.png\" >\n</a>\n\n\n## Import the *ibmdbpy* Python library\n\nPython support for dashDB and DB2 is provided by the [ibmdbpy Python library](https://pypi.python.org/pypi/ibmdbpy). Connecting to dashDB or DB2 is also enabled by a DB2 driver, libdb2.so.\n\nThe JDBC Connection is based on a Java virtual machine. From the ibmdbpy library you can use JDBC to connect to a remote dashDB/DB2 instance. To be able to use JDBC to connect, we need to import the *JayDeBeApi* package.\n\nTo run a cell, click on the cell and click the run button in the toolbar or press __SHIFT-ENTER__.\n\nRun the following commands to install and load the JayDeBeApi package and the ibmdbpy library into your notebook:", 
            "metadata": {}, 
            "cell_type": "markdown"
        }, 
        {
            "execution_count": null, 
            "metadata": {
                "collapsed": true
            }, 
            "source": "!pip install jaydebeapi --user  \n!pip install ibmdbpy --user ", 
            "outputs": [], 
            "cell_type": "code"
        }, 
        {
            "execution_count": 1, 
            "metadata": {
                "collapsed": true
            }, 
            "source": "import jaydebeapi\nfrom ibmdbpy import IdaDataBase\nfrom ibmdbpy import IdaDataFrame", 
            "outputs": [], 
            "cell_type": "code"
        }, 
        {
            "source": "\n## Insert the database connection credentials\n\nClick on the cell below, then on the notebook toolbar, click the box of 1's and 0's, find your database connection and click the __Insert to code__ link under the connection name to have a `credentials_1` dictionary added to the notebook.\n\nConnecting to dashDB requires the following information which are provided by the credentials dictionary inserted:\n* Database name \n* Host DNS name or IP address \n* Host port\n* Connection protocol\n* User ID\n* User password\n\nThe information `credentials_1` will be used to build a connection string in a subsequent step.", 
            "metadata": {}, 
            "cell_type": "markdown"
        }, 
        {
            "source": "## Create the database connection\n\nThe following code snippet creates a connection string `connection_string`\nand uses the `connection_string` to create a database connection object:\n", 
            "metadata": {}, 
            "cell_type": "markdown"
        }, 
        {
            "execution_count": 3, 
            "metadata": {}, 
            "source": "# The code was removed by DSX for sharing.", 
            "outputs": [
                {
                    "execution_count": 3, 
                    "metadata": {}, 
                    "data": {
                        "text/plain": "Row(DAY_KEY=20111130, ORGANIZATION_KEY=11103, POSITION_KEY=43637, EMPLOYEE_KEY=4010, EXPENSE_TYPE_KEY=2104, ACCOUNT_KEY=8050, EXPENSE_UNIT_QUANTITY=15.0, EXPENSE_TOTAL=Decimal('208.33'))"
                    }, 
                    "output_type": "execute_result"
                }
            ], 
            "cell_type": "code"
        }, 
        {
            "execution_count": 2, 
            "metadata": {}, 
            "source": "# The code was removed by DSX for sharing.", 
            "outputs": [
                {
                    "execution_count": 2, 
                    "metadata": {}, 
                    "data": {
                        "text/plain": "[Row(STATE=1, COUNTY=73, MONTH=1, DAY=2, HOUR=23, MINUTE=15, VE_TOTAL=1, PERSONS=1, PEDS=0, NHS=0, ROAD_FNC=14, ROUTE=4, SP_JUR=0, HARM_EV=42, MAN_COLL=0, REL_JUNC=1, REL_ROAD=4, TRAF_FLO=1, NO_LANES=2, SP_LIMIT=40, ALIGNMNT=2, PROFILE=1, PAVE_TYP=2, SUR_COND=1, TRA_CONT=0, T_CONT_F=0, HIT_RUN=0, LGT_COND=2, WEATHER1=1, WEATHER2=0, C_M_ZONE=0, NOT_HOUR=23, NOT_MIN=16, ARR_HOUR=23, ARR_MIN=20, HOSP_HR=0, HOSP_MN=0, SCH_BUS=0, CF1=0, CF2=0, CF3=0, FATALS=1, DAY_WEEK=3, DRUNK_DR=0, ST_CASE=10001, CITY=0, MILEPT=0.0, YEAR=2007, TWAY_ID=u'1493', TWAY_ID2=u'00000000', RAIL=u'0000000', LATITUDE=33272102, LONGITUD=87010454, VE_FORMS=1, WEATHER=1),\n Row(STATE=1, COUNTY=19, MONTH=1, DAY=30, HOUR=13, MINUTE=5, VE_TOTAL=3, PERSONS=4, PEDS=0, NHS=0, ROAD_FNC=3, ROUTE=3, SP_JUR=0, HARM_EV=12, MAN_COLL=5, REL_JUNC=2, REL_ROAD=1, TRAF_FLO=1, NO_LANES=2, SP_LIMIT=40, ALIGNMNT=1, PROFILE=1, PAVE_TYP=2, SUR_COND=1, TRA_CONT=20, T_CONT_F=3, HIT_RUN=0, LGT_COND=1, WEATHER1=1, WEATHER2=0, C_M_ZONE=0, NOT_HOUR=13, NOT_MIN=10, ARR_HOUR=13, ARR_MIN=11, HOSP_HR=99, HOSP_MN=99, SCH_BUS=0, CF1=0, CF2=0, CF3=0, FATALS=2, DAY_WEEK=3, DRUNK_DR=0, ST_CASE=10002, CITY=630, MILEPT=0.0, YEAR=2007, TWAY_ID=u'SR-68', TWAY_ID2=u'270', RAIL=u'0000000', LATITUDE=34093815, LONGITUD=85404107, VE_FORMS=3, WEATHER=1),\n Row(STATE=1, COUNTY=9, MONTH=1, DAY=14, HOUR=12, MINUTE=13, VE_TOTAL=2, PERSONS=5, PEDS=0, NHS=0, ROAD_FNC=3, ROUTE=2, SP_JUR=0, HARM_EV=12, MAN_COLL=7, REL_JUNC=1, REL_ROAD=1, TRAF_FLO=1, NO_LANES=3, SP_LIMIT=55, ALIGNMNT=1, PROFILE=2, PAVE_TYP=2, SUR_COND=1, TRA_CONT=0, T_CONT_F=0, HIT_RUN=1, LGT_COND=1, WEATHER1=1, WEATHER2=0, C_M_ZONE=0, NOT_HOUR=12, NOT_MIN=16, ARR_HOUR=12, ARR_MIN=18, HOSP_HR=99, HOSP_MN=99, SCH_BUS=0, CF1=0, CF2=0, CF3=0, FATALS=1, DAY_WEEK=1, DRUNK_DR=0, ST_CASE=10003, CITY=2330, MILEPT=0.0, YEAR=2007, TWAY_ID=u'US-SR53', TWAY_ID2=u'00000000', RAIL=u'0000000', LATITUDE=33583258, LONGITUD=86294685, VE_FORMS=2, WEATHER=1),\n Row(STATE=1, COUNTY=15, MONTH=1, DAY=1, HOUR=15, MINUTE=0, VE_TOTAL=2, PERSONS=2, PEDS=0, NHS=1, ROAD_FNC=2, ROUTE=2, SP_JUR=0, HARM_EV=12, MAN_COLL=4, REL_JUNC=2, REL_ROAD=1, TRAF_FLO=2, NO_LANES=2, SP_LIMIT=65, ALIGNMNT=1, PROFILE=1, PAVE_TYP=2, SUR_COND=1, TRA_CONT=20, T_CONT_F=3, HIT_RUN=0, LGT_COND=1, WEATHER1=1, WEATHER2=0, C_M_ZONE=0, NOT_HOUR=99, NOT_MIN=99, ARR_HOUR=15, ARR_MIN=5, HOSP_HR=0, HOSP_MN=0, SCH_BUS=0, CF1=0, CF2=0, CF3=0, FATALS=1, DAY_WEEK=2, DRUNK_DR=0, ST_CASE=10004, CITY=0, MILEPT=2468.0, YEAR=2007, TWAY_ID=u'US-SR1', TWAY_ID2=u'7260', RAIL=u'0000000', LATITUDE=33511173, LONGITUD=85545624, VE_FORMS=2, WEATHER=1),\n Row(STATE=1, COUNTY=51, MONTH=1, DAY=6, HOUR=19, MINUTE=35, VE_TOTAL=2, PERSONS=5, PEDS=0, NHS=0, ROAD_FNC=14, ROUTE=3, SP_JUR=0, HARM_EV=12, MAN_COLL=5, REL_JUNC=11, REL_ROAD=1, TRAF_FLO=2, NO_LANES=2, SP_LIMIT=50, ALIGNMNT=1, PROFILE=1, PAVE_TYP=2, SUR_COND=1, TRA_CONT=3, T_CONT_F=3, HIT_RUN=0, LGT_COND=3, WEATHER1=1, WEATHER2=0, C_M_ZONE=0, NOT_HOUR=19, NOT_MIN=35, ARR_HOUR=19, ARR_MIN=41, HOSP_HR=99, HOSP_MN=99, SCH_BUS=0, CF1=0, CF2=0, CF3=0, FATALS=1, DAY_WEEK=7, DRUNK_DR=0, ST_CASE=10005, CITY=2063, MILEPT=0.0, YEAR=2007, TWAY_ID=u'SR-14', TWAY_ID2=u'I-65', RAIL=u'0000000', LATITUDE=32291980, LONGITUD=86243217, VE_FORMS=2, WEATHER=1)]"
                    }, 
                    "output_type": "execute_result"
                }
            ], 
            "cell_type": "code"
        }, 
        {
            "execution_count": 1, 
            "metadata": {}, 
            "source": "# The code was removed by DSX for sharing.", 
            "outputs": [
                {
                    "execution_count": 1, 
                    "metadata": {}, 
                    "data": {
                        "text/html": "<div>\n<style>\n    .dataframe thead tr:only-child th {\n        text-align: right;\n    }\n\n    .dataframe thead th {\n        text-align: left;\n    }\n\n    .dataframe tbody tr th {\n        vertical-align: top;\n    }\n</style>\n<table border=\"1\" class=\"dataframe\">\n  <thead>\n    <tr style=\"text-align: right;\">\n      <th></th>\n      <th>MONTH_KEY</th>\n      <th>ORGANIZATION_KEY</th>\n      <th>EXPENSE_TYPE_KEY</th>\n      <th>ACCOUNT_KEY</th>\n      <th>EXPENSE_PLAN_TOTAL</th>\n    </tr>\n  </thead>\n  <tbody>\n    <tr>\n      <th>0</th>\n      <td>201001</td>\n      <td>11105</td>\n      <td>2104</td>\n      <td>601500</td>\n      <td>1000.0</td>\n    </tr>\n    <tr>\n      <th>1</th>\n      <td>201001</td>\n      <td>11102</td>\n      <td>2104</td>\n      <td>601500</td>\n      <td>300.0</td>\n    </tr>\n    <tr>\n      <th>2</th>\n      <td>201001</td>\n      <td>11101</td>\n      <td>2104</td>\n      <td>601500</td>\n      <td>1000.0</td>\n    </tr>\n    <tr>\n      <th>3</th>\n      <td>201001</td>\n      <td>11104</td>\n      <td>2104</td>\n      <td>601500</td>\n      <td>400.0</td>\n    </tr>\n    <tr>\n      <th>4</th>\n      <td>201001</td>\n      <td>11103</td>\n      <td>2104</td>\n      <td>601500</td>\n      <td>1000.0</td>\n    </tr>\n  </tbody>\n</table>\n</div>", 
                        "text/plain": "   MONTH_KEY  ORGANIZATION_KEY  EXPENSE_TYPE_KEY ACCOUNT_KEY  \\\n0     201001             11105              2104      601500   \n1     201001             11102              2104      601500   \n2     201001             11101              2104      601500   \n3     201001             11104              2104      601500   \n4     201001             11103              2104      601500   \n\n   EXPENSE_PLAN_TOTAL  \n0              1000.0  \n1               300.0  \n2              1000.0  \n3               400.0  \n4              1000.0  "
                    }, 
                    "output_type": "execute_result"
                }
            ], 
            "cell_type": "code"
        }, 
        {
            "source": "Use IdaDataFrame.tail to get the last n records of your data set (default 5):", 
            "metadata": {}, 
            "cell_type": "markdown"
        }, 
        {
            "execution_count": 2, 
            "metadata": {
                "scrolled": true
            }, 
            "source": "idadf.tail(10)", 
            "outputs": [
                {
                    "ename": "NameError", 
                    "evalue": "name 'idadf' is not defined", 
                    "output_type": "error", 
                    "traceback": [
                        "\u001b[0;31m\u001b[0m", 
                        "\u001b[0;31mNameError\u001b[0mTraceback (most recent call last)", 
                        "\u001b[0;32m<ipython-input-2-36d1a0d080e6>\u001b[0m in \u001b[0;36m<module>\u001b[0;34m()\u001b[0m\n\u001b[0;32m----> 1\u001b[0;31m \u001b[0midadf\u001b[0m\u001b[0;34m.\u001b[0m\u001b[0mtail\u001b[0m\u001b[0;34m(\u001b[0m\u001b[0;36m10\u001b[0m\u001b[0;34m)\u001b[0m\u001b[0;34m\u001b[0m\u001b[0m\n\u001b[0m", 
                        "\u001b[0;31mNameError\u001b[0m: name 'idadf' is not defined"
                    ]
                }
            ], 
            "cell_type": "code"
        }, 
        {
            "source": "__Note:__ Because dashDB operates on a distributed system, the order of rows using IdaDataFrame.head and IdaDataFrame.tail is not guaranteed unless the table is sorted (using an \u2018ORDER BY\u2019 clause) or a column is declared as index for the IdaDataFrame (parameter/attribute indexer).\n\nIdaDataFrame also implements most attributes that are available in a pandas DataFrame, here is an example of getting the _shape_ of the data frame (rows, columns):", 
            "metadata": {}, 
            "cell_type": "markdown"
        }, 
        {
            "execution_count": null, 
            "metadata": {
                "collapsed": true
            }, 
            "source": "idadf.shape", 
            "outputs": [], 
            "cell_type": "code"
        }, 
        {
            "execution_count": null, 
            "metadata": {
                "collapsed": true
            }, 
            "source": "idadf.columns", 
            "outputs": [], 
            "cell_type": "code"
        }, 
        {
            "source": "Several standard statistics functions from the pandas interface are also available for IdaDataFrame.  You can use the __TAB__ key after the `.` to see the methods and attributes available in an object in a pulldown menu. \n\nFor example, let us calculate the covariance matrix for the data set by using the `cov` method for the IdaDataFrame instance:", 
            "metadata": {}, 
            "cell_type": "markdown"
        }, 
        {
            "execution_count": null, 
            "metadata": {
                "collapsed": true
            }, 
            "source": "# idadf.[Press TAB HERE]\n\nidadf.cov()", 
            "outputs": [], 
            "cell_type": "code"
        }, 
        {
            "source": "__Note__: It is possible to subset the rows of an IdaDataFrame by accessing the IdaDataFrame with a slice object. You can also use the IdaDataFrame.loc attribute, which contains an ibmdbpy.Loc object. However, the row selection might be inaccurate if the current IdaDataFrame is not sorted or does not contain an indexer. This is due to the fact that dashDB stores the data across several nodes if available. Moreover, because dashDB is a column oriented database, row numbers are undefined:", 
            "metadata": {}, 
            "cell_type": "markdown"
        }, 
        {
            "source": "## Use SQL\nWe can also use SQL to get the top 10.", 
            "metadata": {}, 
            "cell_type": "markdown"
        }, 
        {
            "execution_count": null, 
            "metadata": {
                "collapsed": true
            }, 
            "source": "top_10_df = idadf.ida_query('SELECT * FROM GOSALESDW.EMP_EXPENSE_FACT LIMIT 10')\ntop_10_df", 
            "outputs": [], 
            "cell_type": "code"
        }, 
        {
            "source": "Find the top 10 employees (by id) by the number of transactions in the `GOSALESDW.EMP_EXPENSE_FACT` table.", 
            "metadata": {}, 
            "cell_type": "markdown"
        }, 
        {
            "execution_count": null, 
            "metadata": {
                "collapsed": true
            }, 
            "source": "idadf.ida_query('SELECT EMPLOYEE_KEY, COUNT(*) AS COUNT FROM GOSALESDW.EMP_EXPENSE_FACT GROUP BY EMPLOYEE_KEY ORDER BY COUNT DESC LIMIT 10')", 
            "outputs": [], 
            "cell_type": "code"
        }, 
        {
            "source": "## Close the database connection\n\nTo ensure expected behaviors, IdaDataBase instances need to be closed. Closing the *IdaDataBase* is equivalent to closing the connection: once the connection is closed, it is no longer possible to use the *IdaDataBase* instance and any *IdaDataFrame* instances that were opened on this connection.", 
            "metadata": {}, 
            "cell_type": "markdown"
        }, 
        {
            "execution_count": null, 
            "metadata": {
                "collapsed": true
            }, 
            "source": "idadb_f43b58aca62f471ea80cac6909e64578.close()", 
            "outputs": [], 
            "cell_type": "code"
        }, 
        {
            "source": "## Summary\n\nThis notebook demonstrated how to establish a JDBC connection to a dashDB (or DB2) database from Python, work with data frames and explore the data using SQL and data frame object attributes and methods.", 
            "metadata": {}, 
            "cell_type": "markdown"
        }, 
        {
            "source": "## Take it farther\n### Free courses on <a href=\"https://bigdatauniversity.com/courses/?utm_source=tutorial-dashdb-python&utm_medium=github&utm_campaign=bdu/\" rel=\"noopener noreferrer\" target=\"_blank\">Big Data University</a>: <a href=\"https://bigdatauniversity.com/courses/?utm_source=tutorial-dashdb-python&utm_medium=github&utm_campaign=bdu\" rel=\"noopener noreferrer\" target=\"_blank\"><img src = \"https://ibm.box.com/shared/static/xomeu7dacwufkoawbg3owc8wzuezltn6.png\" width=600px> </a>", 
            "metadata": {}, 
            "cell_type": "markdown"
        }
    ]
}